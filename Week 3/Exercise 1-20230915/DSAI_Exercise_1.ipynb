{
  "cells": [
    {
      "cell_type": "markdown",
      "metadata": {
        "id": "IPGn76jm9-yP"
      },
      "source": [
        "# EDA - Descriptive Statistics"
      ]
    },
    {
      "cell_type": "markdown",
      "metadata": {
        "id": "cv1T4WRM9-yV"
      },
      "source": [
        "# Part-1"
      ]
    },
    {
      "cell_type": "markdown",
      "metadata": {
        "id": "UOV7KJCd9-yV"
      },
      "source": [
        "## About the dataset\n",
        "\n",
        "This is perhaps the best known database to be found in the pattern recognition literature. The data set contains 3 classes of 50 instances each, where each class refers to a type of iris plant.  One class is linearly separable from the other 2; the latter are NOT linearly separable from each other.\n",
        "\n",
        "Attribute Information:\n",
        "   1. sepal length in cm\n",
        "   2. sepal width in cm\n",
        "   3. petal length in cm\n",
        "   4. petal width in cm\n",
        "   5. class: \n",
        "      -- Iris Setosa\n",
        "      -- Iris Versicolour\n",
        "      -- Iris Virginica"
      ]
    },
    {
      "cell_type": "markdown",
      "metadata": {
        "id": "dTRNjTOz9-yW"
      },
      "source": [
        "### Read the dataset and store it in the dataframe named Iris"
      ]
    },
    {
      "cell_type": "code",
      "execution_count": 7,
      "metadata": {
        "id": "i5JhdB3w9-yX"
      },
      "outputs": [],
      "source": [
        "#libraries             \n",
        "#%%matplotlib inline\n",
        "import numpy as np\n",
        "import matplotlib.pyplot as plt\n",
        "import pandas as pd\n",
        "import seaborn as sns\n",
        "\n",
        "iris = pd.read_csv('C:/Users/Mulle/Desktop/AI/Week 3/Exercise 1-20230915/Iris.csv')"
      ]
    },
    {
      "cell_type": "markdown",
      "metadata": {
        "id": "3kMBC2w49-yX"
      },
      "source": [
        "### Find out the datatypes of each and every column"
      ]
    },
    {
      "cell_type": "code",
      "execution_count": 8,
      "metadata": {
        "id": "686sFX1r9-yY"
      },
      "outputs": [
        {
          "data": {
            "text/plain": [
              "<bound method DataFrame.select_dtypes of      Sepal Length (in cm)  Sepal Width in (cm)  Petal length (in cm)  \\\n",
              "0                     5.1                  3.5                   1.4   \n",
              "1                     4.9                  3.0                   1.4   \n",
              "2                     4.7                  3.2                   1.3   \n",
              "3                     4.6                  3.1                   1.5   \n",
              "4                     5.0                  3.6                   1.4   \n",
              "..                    ...                  ...                   ...   \n",
              "145                   6.7                  3.0                   5.2   \n",
              "146                   6.3                  2.5                   5.0   \n",
              "147                   6.5                  3.0                   5.2   \n",
              "148                   6.2                  3.4                   5.4   \n",
              "149                   5.9                  3.0                   5.1   \n",
              "\n",
              "     Petal width (in cm)           Class  \n",
              "0                    0.2     Iris-setosa  \n",
              "1                    0.2     Iris-setosa  \n",
              "2                    0.2     Iris-setosa  \n",
              "3                    0.2     Iris-setosa  \n",
              "4                    0.2     Iris-setosa  \n",
              "..                   ...             ...  \n",
              "145                  2.3  Iris-virginica  \n",
              "146                  1.9  Iris-virginica  \n",
              "147                  2.0  Iris-virginica  \n",
              "148                  2.3  Iris-virginica  \n",
              "149                  1.8  Iris-virginica  \n",
              "\n",
              "[150 rows x 5 columns]>"
            ]
          },
          "execution_count": 8,
          "metadata": {},
          "output_type": "execute_result"
        }
      ],
      "source": [
        "iris.select_dtypes"
      ]
    },
    {
      "cell_type": "markdown",
      "metadata": {
        "id": "HABh0VwL9-yZ"
      },
      "source": [
        "### Print top 10 & bottom 10 samples from the dataframe"
      ]
    },
    {
      "cell_type": "code",
      "execution_count": 10,
      "metadata": {
        "id": "GR6ffqie9-yZ"
      },
      "outputs": [
        {
          "data": {
            "text/html": [
              "<div>\n",
              "<style scoped>\n",
              "    .dataframe tbody tr th:only-of-type {\n",
              "        vertical-align: middle;\n",
              "    }\n",
              "\n",
              "    .dataframe tbody tr th {\n",
              "        vertical-align: top;\n",
              "    }\n",
              "\n",
              "    .dataframe thead th {\n",
              "        text-align: right;\n",
              "    }\n",
              "</style>\n",
              "<table border=\"1\" class=\"dataframe\">\n",
              "  <thead>\n",
              "    <tr style=\"text-align: right;\">\n",
              "      <th></th>\n",
              "      <th>Sepal Length (in cm)</th>\n",
              "      <th>Sepal Width in (cm)</th>\n",
              "      <th>Petal length (in cm)</th>\n",
              "      <th>Petal width (in cm)</th>\n",
              "      <th>Class</th>\n",
              "    </tr>\n",
              "  </thead>\n",
              "  <tbody>\n",
              "    <tr>\n",
              "      <th>0</th>\n",
              "      <td>5.1</td>\n",
              "      <td>3.5</td>\n",
              "      <td>1.4</td>\n",
              "      <td>0.2</td>\n",
              "      <td>Iris-setosa</td>\n",
              "    </tr>\n",
              "    <tr>\n",
              "      <th>1</th>\n",
              "      <td>4.9</td>\n",
              "      <td>3.0</td>\n",
              "      <td>1.4</td>\n",
              "      <td>0.2</td>\n",
              "      <td>Iris-setosa</td>\n",
              "    </tr>\n",
              "    <tr>\n",
              "      <th>2</th>\n",
              "      <td>4.7</td>\n",
              "      <td>3.2</td>\n",
              "      <td>1.3</td>\n",
              "      <td>0.2</td>\n",
              "      <td>Iris-setosa</td>\n",
              "    </tr>\n",
              "    <tr>\n",
              "      <th>3</th>\n",
              "      <td>4.6</td>\n",
              "      <td>3.1</td>\n",
              "      <td>1.5</td>\n",
              "      <td>0.2</td>\n",
              "      <td>Iris-setosa</td>\n",
              "    </tr>\n",
              "    <tr>\n",
              "      <th>4</th>\n",
              "      <td>5.0</td>\n",
              "      <td>3.6</td>\n",
              "      <td>1.4</td>\n",
              "      <td>0.2</td>\n",
              "      <td>Iris-setosa</td>\n",
              "    </tr>\n",
              "    <tr>\n",
              "      <th>5</th>\n",
              "      <td>5.4</td>\n",
              "      <td>3.9</td>\n",
              "      <td>1.7</td>\n",
              "      <td>0.4</td>\n",
              "      <td>Iris-setosa</td>\n",
              "    </tr>\n",
              "    <tr>\n",
              "      <th>6</th>\n",
              "      <td>4.6</td>\n",
              "      <td>3.4</td>\n",
              "      <td>1.4</td>\n",
              "      <td>0.3</td>\n",
              "      <td>Iris-setosa</td>\n",
              "    </tr>\n",
              "    <tr>\n",
              "      <th>7</th>\n",
              "      <td>5.0</td>\n",
              "      <td>3.4</td>\n",
              "      <td>1.5</td>\n",
              "      <td>0.2</td>\n",
              "      <td>Iris-setosa</td>\n",
              "    </tr>\n",
              "    <tr>\n",
              "      <th>8</th>\n",
              "      <td>4.4</td>\n",
              "      <td>2.9</td>\n",
              "      <td>1.4</td>\n",
              "      <td>0.2</td>\n",
              "      <td>Iris-setosa</td>\n",
              "    </tr>\n",
              "    <tr>\n",
              "      <th>9</th>\n",
              "      <td>4.9</td>\n",
              "      <td>3.1</td>\n",
              "      <td>1.5</td>\n",
              "      <td>0.1</td>\n",
              "      <td>Iris-setosa</td>\n",
              "    </tr>\n",
              "  </tbody>\n",
              "</table>\n",
              "</div>"
            ],
            "text/plain": [
              "   Sepal Length (in cm)  Sepal Width in (cm)  Petal length (in cm)  \\\n",
              "0                   5.1                  3.5                   1.4   \n",
              "1                   4.9                  3.0                   1.4   \n",
              "2                   4.7                  3.2                   1.3   \n",
              "3                   4.6                  3.1                   1.5   \n",
              "4                   5.0                  3.6                   1.4   \n",
              "5                   5.4                  3.9                   1.7   \n",
              "6                   4.6                  3.4                   1.4   \n",
              "7                   5.0                  3.4                   1.5   \n",
              "8                   4.4                  2.9                   1.4   \n",
              "9                   4.9                  3.1                   1.5   \n",
              "\n",
              "   Petal width (in cm)        Class  \n",
              "0                  0.2  Iris-setosa  \n",
              "1                  0.2  Iris-setosa  \n",
              "2                  0.2  Iris-setosa  \n",
              "3                  0.2  Iris-setosa  \n",
              "4                  0.2  Iris-setosa  \n",
              "5                  0.4  Iris-setosa  \n",
              "6                  0.3  Iris-setosa  \n",
              "7                  0.2  Iris-setosa  \n",
              "8                  0.2  Iris-setosa  \n",
              "9                  0.1  Iris-setosa  "
            ]
          },
          "execution_count": 10,
          "metadata": {},
          "output_type": "execute_result"
        }
      ],
      "source": [
        "iris.head(10)\n",
        "iris.tail(10)"
      ]
    },
    {
      "cell_type": "markdown",
      "metadata": {
        "id": "p-DWfO6T9-ya"
      },
      "source": [
        "### Find the shape of the dataset"
      ]
    },
    {
      "cell_type": "code",
      "execution_count": 11,
      "metadata": {
        "id": "GuzonJkS9-ya"
      },
      "outputs": [
        {
          "data": {
            "text/plain": [
              "(150, 5)"
            ]
          },
          "execution_count": 11,
          "metadata": {},
          "output_type": "execute_result"
        }
      ],
      "source": [
        "iris.shape"
      ]
    },
    {
      "cell_type": "markdown",
      "metadata": {
        "id": "6qjPbWPk9-ya"
      },
      "source": [
        "### Set the index of the dataframe to be the first column"
      ]
    },
    {
      "cell_type": "code",
      "execution_count": 13,
      "metadata": {
        "id": "fM3ejDGY9-yb"
      },
      "outputs": [
        {
          "data": {
            "text/html": [
              "<div>\n",
              "<style scoped>\n",
              "    .dataframe tbody tr th:only-of-type {\n",
              "        vertical-align: middle;\n",
              "    }\n",
              "\n",
              "    .dataframe tbody tr th {\n",
              "        vertical-align: top;\n",
              "    }\n",
              "\n",
              "    .dataframe thead th {\n",
              "        text-align: right;\n",
              "    }\n",
              "</style>\n",
              "<table border=\"1\" class=\"dataframe\">\n",
              "  <thead>\n",
              "    <tr style=\"text-align: right;\">\n",
              "      <th></th>\n",
              "      <th>Sepal Width in (cm)</th>\n",
              "      <th>Petal length (in cm)</th>\n",
              "      <th>Petal width (in cm)</th>\n",
              "      <th>Class</th>\n",
              "    </tr>\n",
              "    <tr>\n",
              "      <th>Sepal Length (in cm)</th>\n",
              "      <th></th>\n",
              "      <th></th>\n",
              "      <th></th>\n",
              "      <th></th>\n",
              "    </tr>\n",
              "  </thead>\n",
              "  <tbody>\n",
              "    <tr>\n",
              "      <th>5.1</th>\n",
              "      <td>3.5</td>\n",
              "      <td>1.4</td>\n",
              "      <td>0.2</td>\n",
              "      <td>Iris-setosa</td>\n",
              "    </tr>\n",
              "    <tr>\n",
              "      <th>4.9</th>\n",
              "      <td>3.0</td>\n",
              "      <td>1.4</td>\n",
              "      <td>0.2</td>\n",
              "      <td>Iris-setosa</td>\n",
              "    </tr>\n",
              "    <tr>\n",
              "      <th>4.7</th>\n",
              "      <td>3.2</td>\n",
              "      <td>1.3</td>\n",
              "      <td>0.2</td>\n",
              "      <td>Iris-setosa</td>\n",
              "    </tr>\n",
              "    <tr>\n",
              "      <th>4.6</th>\n",
              "      <td>3.1</td>\n",
              "      <td>1.5</td>\n",
              "      <td>0.2</td>\n",
              "      <td>Iris-setosa</td>\n",
              "    </tr>\n",
              "    <tr>\n",
              "      <th>5.0</th>\n",
              "      <td>3.6</td>\n",
              "      <td>1.4</td>\n",
              "      <td>0.2</td>\n",
              "      <td>Iris-setosa</td>\n",
              "    </tr>\n",
              "    <tr>\n",
              "      <th>...</th>\n",
              "      <td>...</td>\n",
              "      <td>...</td>\n",
              "      <td>...</td>\n",
              "      <td>...</td>\n",
              "    </tr>\n",
              "    <tr>\n",
              "      <th>6.7</th>\n",
              "      <td>3.0</td>\n",
              "      <td>5.2</td>\n",
              "      <td>2.3</td>\n",
              "      <td>Iris-virginica</td>\n",
              "    </tr>\n",
              "    <tr>\n",
              "      <th>6.3</th>\n",
              "      <td>2.5</td>\n",
              "      <td>5.0</td>\n",
              "      <td>1.9</td>\n",
              "      <td>Iris-virginica</td>\n",
              "    </tr>\n",
              "    <tr>\n",
              "      <th>6.5</th>\n",
              "      <td>3.0</td>\n",
              "      <td>5.2</td>\n",
              "      <td>2.0</td>\n",
              "      <td>Iris-virginica</td>\n",
              "    </tr>\n",
              "    <tr>\n",
              "      <th>6.2</th>\n",
              "      <td>3.4</td>\n",
              "      <td>5.4</td>\n",
              "      <td>2.3</td>\n",
              "      <td>Iris-virginica</td>\n",
              "    </tr>\n",
              "    <tr>\n",
              "      <th>5.9</th>\n",
              "      <td>3.0</td>\n",
              "      <td>5.1</td>\n",
              "      <td>1.8</td>\n",
              "      <td>Iris-virginica</td>\n",
              "    </tr>\n",
              "  </tbody>\n",
              "</table>\n",
              "<p>150 rows × 4 columns</p>\n",
              "</div>"
            ],
            "text/plain": [
              "                      Sepal Width in (cm)  Petal length (in cm)  \\\n",
              "Sepal Length (in cm)                                              \n",
              "5.1                                   3.5                   1.4   \n",
              "4.9                                   3.0                   1.4   \n",
              "4.7                                   3.2                   1.3   \n",
              "4.6                                   3.1                   1.5   \n",
              "5.0                                   3.6                   1.4   \n",
              "...                                   ...                   ...   \n",
              "6.7                                   3.0                   5.2   \n",
              "6.3                                   2.5                   5.0   \n",
              "6.5                                   3.0                   5.2   \n",
              "6.2                                   3.4                   5.4   \n",
              "5.9                                   3.0                   5.1   \n",
              "\n",
              "                      Petal width (in cm)           Class  \n",
              "Sepal Length (in cm)                                       \n",
              "5.1                                   0.2     Iris-setosa  \n",
              "4.9                                   0.2     Iris-setosa  \n",
              "4.7                                   0.2     Iris-setosa  \n",
              "4.6                                   0.2     Iris-setosa  \n",
              "5.0                                   0.2     Iris-setosa  \n",
              "...                                   ...             ...  \n",
              "6.7                                   2.3  Iris-virginica  \n",
              "6.3                                   1.9  Iris-virginica  \n",
              "6.5                                   2.0  Iris-virginica  \n",
              "6.2                                   2.3  Iris-virginica  \n",
              "5.9                                   1.8  Iris-virginica  \n",
              "\n",
              "[150 rows x 4 columns]"
            ]
          },
          "execution_count": 13,
          "metadata": {},
          "output_type": "execute_result"
        }
      ],
      "source": [
        "iris.set_index(iris.columns[0])"
      ]
    },
    {
      "cell_type": "code",
      "execution_count": null,
      "metadata": {
        "id": "W7F8ZduV9-yb"
      },
      "outputs": [],
      "source": []
    },
    {
      "cell_type": "markdown",
      "metadata": {
        "id": "R7J1wfvO9-yb"
      },
      "source": [
        "### Use iloc function to print all the rows of the 3rd column "
      ]
    },
    {
      "cell_type": "code",
      "execution_count": 20,
      "metadata": {
        "id": "7xs_pNhk9-yc"
      },
      "outputs": [
        {
          "data": {
            "text/plain": [
              "0      1.4\n",
              "1      1.4\n",
              "2      1.3\n",
              "3      1.5\n",
              "4      1.4\n",
              "      ... \n",
              "145    5.2\n",
              "146    5.0\n",
              "147    5.2\n",
              "148    5.4\n",
              "149    5.1\n",
              "Name: Petal length (in cm), Length: 150, dtype: float64"
            ]
          },
          "execution_count": 20,
          "metadata": {},
          "output_type": "execute_result"
        }
      ],
      "source": [
        "iris.iloc[:, 2]"
      ]
    },
    {
      "cell_type": "markdown",
      "metadata": {
        "id": "r9sqbhHS9-yc"
      },
      "source": [
        "### Slicing\n",
        "Print only the Sepal width and Sepal Length for first 10 rows "
      ]
    },
    {
      "cell_type": "code",
      "execution_count": 25,
      "metadata": {
        "id": "vO3Qq5tb9-yc"
      },
      "outputs": [
        {
          "name": "stdout",
          "output_type": "stream",
          "text": [
            "   Sepal Length (in cm)  Sepal Width in (cm)\n",
            "0                   5.1                  3.5\n",
            "1                   4.9                  3.0\n",
            "2                   4.7                  3.2\n",
            "3                   4.6                  3.1\n",
            "4                   5.0                  3.6\n",
            "5                   5.4                  3.9\n",
            "6                   4.6                  3.4\n",
            "7                   5.0                  3.4\n",
            "8                   4.4                  2.9\n",
            "9                   4.9                  3.1\n"
          ]
        }
      ],
      "source": [
        "newdf = iris[['Sepal Length (in cm)', 'Sepal Width in (cm)']].head(10)\n",
        "print(newdf)"
      ]
    },
    {
      "cell_type": "markdown",
      "metadata": {
        "id": "fQxxyLtJ9-yc"
      },
      "source": [
        "### Using Logical statements for indexing\n",
        "Print all the columns of row which has class name \"Iris-setosa\""
      ]
    },
    {
      "cell_type": "code",
      "execution_count": 26,
      "metadata": {
        "id": "YWxqwciL9-yd"
      },
      "outputs": [
        {
          "data": {
            "text/html": [
              "<div>\n",
              "<style scoped>\n",
              "    .dataframe tbody tr th:only-of-type {\n",
              "        vertical-align: middle;\n",
              "    }\n",
              "\n",
              "    .dataframe tbody tr th {\n",
              "        vertical-align: top;\n",
              "    }\n",
              "\n",
              "    .dataframe thead th {\n",
              "        text-align: right;\n",
              "    }\n",
              "</style>\n",
              "<table border=\"1\" class=\"dataframe\">\n",
              "  <thead>\n",
              "    <tr style=\"text-align: right;\">\n",
              "      <th></th>\n",
              "      <th>Sepal Length (in cm)</th>\n",
              "      <th>Sepal Width in (cm)</th>\n",
              "      <th>Petal length (in cm)</th>\n",
              "      <th>Petal width (in cm)</th>\n",
              "      <th>Class</th>\n",
              "    </tr>\n",
              "  </thead>\n",
              "  <tbody>\n",
              "    <tr>\n",
              "      <th>0</th>\n",
              "      <td>5.1</td>\n",
              "      <td>3.5</td>\n",
              "      <td>1.4</td>\n",
              "      <td>0.2</td>\n",
              "      <td>Iris-setosa</td>\n",
              "    </tr>\n",
              "    <tr>\n",
              "      <th>1</th>\n",
              "      <td>4.9</td>\n",
              "      <td>3.0</td>\n",
              "      <td>1.4</td>\n",
              "      <td>0.2</td>\n",
              "      <td>Iris-setosa</td>\n",
              "    </tr>\n",
              "    <tr>\n",
              "      <th>2</th>\n",
              "      <td>4.7</td>\n",
              "      <td>3.2</td>\n",
              "      <td>1.3</td>\n",
              "      <td>0.2</td>\n",
              "      <td>Iris-setosa</td>\n",
              "    </tr>\n",
              "    <tr>\n",
              "      <th>3</th>\n",
              "      <td>4.6</td>\n",
              "      <td>3.1</td>\n",
              "      <td>1.5</td>\n",
              "      <td>0.2</td>\n",
              "      <td>Iris-setosa</td>\n",
              "    </tr>\n",
              "    <tr>\n",
              "      <th>4</th>\n",
              "      <td>5.0</td>\n",
              "      <td>3.6</td>\n",
              "      <td>1.4</td>\n",
              "      <td>0.2</td>\n",
              "      <td>Iris-setosa</td>\n",
              "    </tr>\n",
              "    <tr>\n",
              "      <th>5</th>\n",
              "      <td>5.4</td>\n",
              "      <td>3.9</td>\n",
              "      <td>1.7</td>\n",
              "      <td>0.4</td>\n",
              "      <td>Iris-setosa</td>\n",
              "    </tr>\n",
              "    <tr>\n",
              "      <th>6</th>\n",
              "      <td>4.6</td>\n",
              "      <td>3.4</td>\n",
              "      <td>1.4</td>\n",
              "      <td>0.3</td>\n",
              "      <td>Iris-setosa</td>\n",
              "    </tr>\n",
              "    <tr>\n",
              "      <th>7</th>\n",
              "      <td>5.0</td>\n",
              "      <td>3.4</td>\n",
              "      <td>1.5</td>\n",
              "      <td>0.2</td>\n",
              "      <td>Iris-setosa</td>\n",
              "    </tr>\n",
              "    <tr>\n",
              "      <th>8</th>\n",
              "      <td>4.4</td>\n",
              "      <td>2.9</td>\n",
              "      <td>1.4</td>\n",
              "      <td>0.2</td>\n",
              "      <td>Iris-setosa</td>\n",
              "    </tr>\n",
              "    <tr>\n",
              "      <th>9</th>\n",
              "      <td>4.9</td>\n",
              "      <td>3.1</td>\n",
              "      <td>1.5</td>\n",
              "      <td>0.1</td>\n",
              "      <td>Iris-setosa</td>\n",
              "    </tr>\n",
              "    <tr>\n",
              "      <th>10</th>\n",
              "      <td>5.4</td>\n",
              "      <td>3.7</td>\n",
              "      <td>1.5</td>\n",
              "      <td>0.2</td>\n",
              "      <td>Iris-setosa</td>\n",
              "    </tr>\n",
              "    <tr>\n",
              "      <th>11</th>\n",
              "      <td>4.8</td>\n",
              "      <td>3.4</td>\n",
              "      <td>1.6</td>\n",
              "      <td>0.2</td>\n",
              "      <td>Iris-setosa</td>\n",
              "    </tr>\n",
              "    <tr>\n",
              "      <th>12</th>\n",
              "      <td>4.8</td>\n",
              "      <td>3.0</td>\n",
              "      <td>1.4</td>\n",
              "      <td>0.1</td>\n",
              "      <td>Iris-setosa</td>\n",
              "    </tr>\n",
              "    <tr>\n",
              "      <th>13</th>\n",
              "      <td>4.3</td>\n",
              "      <td>3.0</td>\n",
              "      <td>1.1</td>\n",
              "      <td>0.1</td>\n",
              "      <td>Iris-setosa</td>\n",
              "    </tr>\n",
              "    <tr>\n",
              "      <th>14</th>\n",
              "      <td>5.8</td>\n",
              "      <td>4.0</td>\n",
              "      <td>1.2</td>\n",
              "      <td>0.2</td>\n",
              "      <td>Iris-setosa</td>\n",
              "    </tr>\n",
              "    <tr>\n",
              "      <th>15</th>\n",
              "      <td>5.7</td>\n",
              "      <td>4.4</td>\n",
              "      <td>1.5</td>\n",
              "      <td>0.4</td>\n",
              "      <td>Iris-setosa</td>\n",
              "    </tr>\n",
              "    <tr>\n",
              "      <th>16</th>\n",
              "      <td>5.4</td>\n",
              "      <td>3.9</td>\n",
              "      <td>1.3</td>\n",
              "      <td>0.4</td>\n",
              "      <td>Iris-setosa</td>\n",
              "    </tr>\n",
              "    <tr>\n",
              "      <th>17</th>\n",
              "      <td>5.1</td>\n",
              "      <td>3.5</td>\n",
              "      <td>1.4</td>\n",
              "      <td>0.3</td>\n",
              "      <td>Iris-setosa</td>\n",
              "    </tr>\n",
              "    <tr>\n",
              "      <th>18</th>\n",
              "      <td>5.7</td>\n",
              "      <td>3.8</td>\n",
              "      <td>1.7</td>\n",
              "      <td>0.3</td>\n",
              "      <td>Iris-setosa</td>\n",
              "    </tr>\n",
              "    <tr>\n",
              "      <th>19</th>\n",
              "      <td>5.1</td>\n",
              "      <td>3.8</td>\n",
              "      <td>1.5</td>\n",
              "      <td>0.3</td>\n",
              "      <td>Iris-setosa</td>\n",
              "    </tr>\n",
              "    <tr>\n",
              "      <th>20</th>\n",
              "      <td>5.4</td>\n",
              "      <td>3.4</td>\n",
              "      <td>1.7</td>\n",
              "      <td>0.2</td>\n",
              "      <td>Iris-setosa</td>\n",
              "    </tr>\n",
              "    <tr>\n",
              "      <th>21</th>\n",
              "      <td>5.1</td>\n",
              "      <td>3.7</td>\n",
              "      <td>1.5</td>\n",
              "      <td>0.4</td>\n",
              "      <td>Iris-setosa</td>\n",
              "    </tr>\n",
              "    <tr>\n",
              "      <th>22</th>\n",
              "      <td>4.6</td>\n",
              "      <td>3.6</td>\n",
              "      <td>1.0</td>\n",
              "      <td>0.2</td>\n",
              "      <td>Iris-setosa</td>\n",
              "    </tr>\n",
              "    <tr>\n",
              "      <th>23</th>\n",
              "      <td>5.1</td>\n",
              "      <td>3.3</td>\n",
              "      <td>1.7</td>\n",
              "      <td>0.5</td>\n",
              "      <td>Iris-setosa</td>\n",
              "    </tr>\n",
              "    <tr>\n",
              "      <th>24</th>\n",
              "      <td>4.8</td>\n",
              "      <td>3.4</td>\n",
              "      <td>1.9</td>\n",
              "      <td>0.2</td>\n",
              "      <td>Iris-setosa</td>\n",
              "    </tr>\n",
              "    <tr>\n",
              "      <th>25</th>\n",
              "      <td>5.0</td>\n",
              "      <td>3.0</td>\n",
              "      <td>1.6</td>\n",
              "      <td>0.2</td>\n",
              "      <td>Iris-setosa</td>\n",
              "    </tr>\n",
              "    <tr>\n",
              "      <th>26</th>\n",
              "      <td>5.0</td>\n",
              "      <td>3.4</td>\n",
              "      <td>1.6</td>\n",
              "      <td>0.4</td>\n",
              "      <td>Iris-setosa</td>\n",
              "    </tr>\n",
              "    <tr>\n",
              "      <th>27</th>\n",
              "      <td>5.2</td>\n",
              "      <td>3.5</td>\n",
              "      <td>1.5</td>\n",
              "      <td>0.2</td>\n",
              "      <td>Iris-setosa</td>\n",
              "    </tr>\n",
              "    <tr>\n",
              "      <th>28</th>\n",
              "      <td>5.2</td>\n",
              "      <td>3.4</td>\n",
              "      <td>1.4</td>\n",
              "      <td>0.2</td>\n",
              "      <td>Iris-setosa</td>\n",
              "    </tr>\n",
              "    <tr>\n",
              "      <th>29</th>\n",
              "      <td>4.7</td>\n",
              "      <td>3.2</td>\n",
              "      <td>1.6</td>\n",
              "      <td>0.2</td>\n",
              "      <td>Iris-setosa</td>\n",
              "    </tr>\n",
              "    <tr>\n",
              "      <th>30</th>\n",
              "      <td>4.8</td>\n",
              "      <td>3.1</td>\n",
              "      <td>1.6</td>\n",
              "      <td>0.2</td>\n",
              "      <td>Iris-setosa</td>\n",
              "    </tr>\n",
              "    <tr>\n",
              "      <th>31</th>\n",
              "      <td>5.4</td>\n",
              "      <td>3.4</td>\n",
              "      <td>1.5</td>\n",
              "      <td>0.4</td>\n",
              "      <td>Iris-setosa</td>\n",
              "    </tr>\n",
              "    <tr>\n",
              "      <th>32</th>\n",
              "      <td>5.2</td>\n",
              "      <td>4.1</td>\n",
              "      <td>1.5</td>\n",
              "      <td>0.1</td>\n",
              "      <td>Iris-setosa</td>\n",
              "    </tr>\n",
              "    <tr>\n",
              "      <th>33</th>\n",
              "      <td>5.5</td>\n",
              "      <td>4.2</td>\n",
              "      <td>1.4</td>\n",
              "      <td>0.2</td>\n",
              "      <td>Iris-setosa</td>\n",
              "    </tr>\n",
              "    <tr>\n",
              "      <th>34</th>\n",
              "      <td>4.9</td>\n",
              "      <td>3.1</td>\n",
              "      <td>1.5</td>\n",
              "      <td>0.1</td>\n",
              "      <td>Iris-setosa</td>\n",
              "    </tr>\n",
              "    <tr>\n",
              "      <th>35</th>\n",
              "      <td>5.0</td>\n",
              "      <td>3.2</td>\n",
              "      <td>1.2</td>\n",
              "      <td>0.2</td>\n",
              "      <td>Iris-setosa</td>\n",
              "    </tr>\n",
              "    <tr>\n",
              "      <th>36</th>\n",
              "      <td>5.5</td>\n",
              "      <td>3.5</td>\n",
              "      <td>1.3</td>\n",
              "      <td>0.2</td>\n",
              "      <td>Iris-setosa</td>\n",
              "    </tr>\n",
              "    <tr>\n",
              "      <th>37</th>\n",
              "      <td>4.9</td>\n",
              "      <td>3.1</td>\n",
              "      <td>1.5</td>\n",
              "      <td>0.1</td>\n",
              "      <td>Iris-setosa</td>\n",
              "    </tr>\n",
              "    <tr>\n",
              "      <th>38</th>\n",
              "      <td>4.4</td>\n",
              "      <td>3.0</td>\n",
              "      <td>1.3</td>\n",
              "      <td>0.2</td>\n",
              "      <td>Iris-setosa</td>\n",
              "    </tr>\n",
              "    <tr>\n",
              "      <th>39</th>\n",
              "      <td>5.1</td>\n",
              "      <td>3.4</td>\n",
              "      <td>1.5</td>\n",
              "      <td>0.2</td>\n",
              "      <td>Iris-setosa</td>\n",
              "    </tr>\n",
              "    <tr>\n",
              "      <th>40</th>\n",
              "      <td>5.0</td>\n",
              "      <td>3.5</td>\n",
              "      <td>1.3</td>\n",
              "      <td>0.3</td>\n",
              "      <td>Iris-setosa</td>\n",
              "    </tr>\n",
              "    <tr>\n",
              "      <th>41</th>\n",
              "      <td>4.5</td>\n",
              "      <td>2.3</td>\n",
              "      <td>1.3</td>\n",
              "      <td>0.3</td>\n",
              "      <td>Iris-setosa</td>\n",
              "    </tr>\n",
              "    <tr>\n",
              "      <th>42</th>\n",
              "      <td>4.4</td>\n",
              "      <td>3.2</td>\n",
              "      <td>1.3</td>\n",
              "      <td>0.2</td>\n",
              "      <td>Iris-setosa</td>\n",
              "    </tr>\n",
              "    <tr>\n",
              "      <th>43</th>\n",
              "      <td>5.0</td>\n",
              "      <td>3.5</td>\n",
              "      <td>1.6</td>\n",
              "      <td>0.6</td>\n",
              "      <td>Iris-setosa</td>\n",
              "    </tr>\n",
              "    <tr>\n",
              "      <th>44</th>\n",
              "      <td>5.1</td>\n",
              "      <td>3.8</td>\n",
              "      <td>1.9</td>\n",
              "      <td>0.4</td>\n",
              "      <td>Iris-setosa</td>\n",
              "    </tr>\n",
              "    <tr>\n",
              "      <th>45</th>\n",
              "      <td>4.8</td>\n",
              "      <td>3.0</td>\n",
              "      <td>1.4</td>\n",
              "      <td>0.3</td>\n",
              "      <td>Iris-setosa</td>\n",
              "    </tr>\n",
              "    <tr>\n",
              "      <th>46</th>\n",
              "      <td>5.1</td>\n",
              "      <td>3.8</td>\n",
              "      <td>1.6</td>\n",
              "      <td>0.2</td>\n",
              "      <td>Iris-setosa</td>\n",
              "    </tr>\n",
              "    <tr>\n",
              "      <th>47</th>\n",
              "      <td>4.6</td>\n",
              "      <td>3.2</td>\n",
              "      <td>1.4</td>\n",
              "      <td>0.2</td>\n",
              "      <td>Iris-setosa</td>\n",
              "    </tr>\n",
              "    <tr>\n",
              "      <th>48</th>\n",
              "      <td>5.3</td>\n",
              "      <td>3.7</td>\n",
              "      <td>1.5</td>\n",
              "      <td>0.2</td>\n",
              "      <td>Iris-setosa</td>\n",
              "    </tr>\n",
              "    <tr>\n",
              "      <th>49</th>\n",
              "      <td>5.0</td>\n",
              "      <td>3.3</td>\n",
              "      <td>1.4</td>\n",
              "      <td>0.2</td>\n",
              "      <td>Iris-setosa</td>\n",
              "    </tr>\n",
              "  </tbody>\n",
              "</table>\n",
              "</div>"
            ],
            "text/plain": [
              "    Sepal Length (in cm)  Sepal Width in (cm)  Petal length (in cm)  \\\n",
              "0                    5.1                  3.5                   1.4   \n",
              "1                    4.9                  3.0                   1.4   \n",
              "2                    4.7                  3.2                   1.3   \n",
              "3                    4.6                  3.1                   1.5   \n",
              "4                    5.0                  3.6                   1.4   \n",
              "5                    5.4                  3.9                   1.7   \n",
              "6                    4.6                  3.4                   1.4   \n",
              "7                    5.0                  3.4                   1.5   \n",
              "8                    4.4                  2.9                   1.4   \n",
              "9                    4.9                  3.1                   1.5   \n",
              "10                   5.4                  3.7                   1.5   \n",
              "11                   4.8                  3.4                   1.6   \n",
              "12                   4.8                  3.0                   1.4   \n",
              "13                   4.3                  3.0                   1.1   \n",
              "14                   5.8                  4.0                   1.2   \n",
              "15                   5.7                  4.4                   1.5   \n",
              "16                   5.4                  3.9                   1.3   \n",
              "17                   5.1                  3.5                   1.4   \n",
              "18                   5.7                  3.8                   1.7   \n",
              "19                   5.1                  3.8                   1.5   \n",
              "20                   5.4                  3.4                   1.7   \n",
              "21                   5.1                  3.7                   1.5   \n",
              "22                   4.6                  3.6                   1.0   \n",
              "23                   5.1                  3.3                   1.7   \n",
              "24                   4.8                  3.4                   1.9   \n",
              "25                   5.0                  3.0                   1.6   \n",
              "26                   5.0                  3.4                   1.6   \n",
              "27                   5.2                  3.5                   1.5   \n",
              "28                   5.2                  3.4                   1.4   \n",
              "29                   4.7                  3.2                   1.6   \n",
              "30                   4.8                  3.1                   1.6   \n",
              "31                   5.4                  3.4                   1.5   \n",
              "32                   5.2                  4.1                   1.5   \n",
              "33                   5.5                  4.2                   1.4   \n",
              "34                   4.9                  3.1                   1.5   \n",
              "35                   5.0                  3.2                   1.2   \n",
              "36                   5.5                  3.5                   1.3   \n",
              "37                   4.9                  3.1                   1.5   \n",
              "38                   4.4                  3.0                   1.3   \n",
              "39                   5.1                  3.4                   1.5   \n",
              "40                   5.0                  3.5                   1.3   \n",
              "41                   4.5                  2.3                   1.3   \n",
              "42                   4.4                  3.2                   1.3   \n",
              "43                   5.0                  3.5                   1.6   \n",
              "44                   5.1                  3.8                   1.9   \n",
              "45                   4.8                  3.0                   1.4   \n",
              "46                   5.1                  3.8                   1.6   \n",
              "47                   4.6                  3.2                   1.4   \n",
              "48                   5.3                  3.7                   1.5   \n",
              "49                   5.0                  3.3                   1.4   \n",
              "\n",
              "    Petal width (in cm)        Class  \n",
              "0                   0.2  Iris-setosa  \n",
              "1                   0.2  Iris-setosa  \n",
              "2                   0.2  Iris-setosa  \n",
              "3                   0.2  Iris-setosa  \n",
              "4                   0.2  Iris-setosa  \n",
              "5                   0.4  Iris-setosa  \n",
              "6                   0.3  Iris-setosa  \n",
              "7                   0.2  Iris-setosa  \n",
              "8                   0.2  Iris-setosa  \n",
              "9                   0.1  Iris-setosa  \n",
              "10                  0.2  Iris-setosa  \n",
              "11                  0.2  Iris-setosa  \n",
              "12                  0.1  Iris-setosa  \n",
              "13                  0.1  Iris-setosa  \n",
              "14                  0.2  Iris-setosa  \n",
              "15                  0.4  Iris-setosa  \n",
              "16                  0.4  Iris-setosa  \n",
              "17                  0.3  Iris-setosa  \n",
              "18                  0.3  Iris-setosa  \n",
              "19                  0.3  Iris-setosa  \n",
              "20                  0.2  Iris-setosa  \n",
              "21                  0.4  Iris-setosa  \n",
              "22                  0.2  Iris-setosa  \n",
              "23                  0.5  Iris-setosa  \n",
              "24                  0.2  Iris-setosa  \n",
              "25                  0.2  Iris-setosa  \n",
              "26                  0.4  Iris-setosa  \n",
              "27                  0.2  Iris-setosa  \n",
              "28                  0.2  Iris-setosa  \n",
              "29                  0.2  Iris-setosa  \n",
              "30                  0.2  Iris-setosa  \n",
              "31                  0.4  Iris-setosa  \n",
              "32                  0.1  Iris-setosa  \n",
              "33                  0.2  Iris-setosa  \n",
              "34                  0.1  Iris-setosa  \n",
              "35                  0.2  Iris-setosa  \n",
              "36                  0.2  Iris-setosa  \n",
              "37                  0.1  Iris-setosa  \n",
              "38                  0.2  Iris-setosa  \n",
              "39                  0.2  Iris-setosa  \n",
              "40                  0.3  Iris-setosa  \n",
              "41                  0.3  Iris-setosa  \n",
              "42                  0.2  Iris-setosa  \n",
              "43                  0.6  Iris-setosa  \n",
              "44                  0.4  Iris-setosa  \n",
              "45                  0.3  Iris-setosa  \n",
              "46                  0.2  Iris-setosa  \n",
              "47                  0.2  Iris-setosa  \n",
              "48                  0.2  Iris-setosa  \n",
              "49                  0.2  Iris-setosa  "
            ]
          },
          "execution_count": 26,
          "metadata": {},
          "output_type": "execute_result"
        }
      ],
      "source": [
        "iris.loc[iris['Class'] == 'Iris-setosa']"
      ]
    },
    {
      "cell_type": "markdown",
      "metadata": {
        "id": "Sa5yySHx9-yd"
      },
      "source": [
        "### Multiply Sepal Length and width and store it under the column name \"SepalExtra\" in the same Iris dataframe"
      ]
    },
    {
      "cell_type": "code",
      "execution_count": 31,
      "metadata": {
        "id": "PzfmYd5l9-yd"
      },
      "outputs": [],
      "source": [
        "iris['SepalExtra']= iris['Sepal Length (in cm)']*iris['Sepal Width in (cm)']"
      ]
    },
    {
      "cell_type": "code",
      "execution_count": 32,
      "metadata": {
        "id": "vdLf-VZN9-yd"
      },
      "outputs": [
        {
          "data": {
            "text/html": [
              "<div>\n",
              "<style scoped>\n",
              "    .dataframe tbody tr th:only-of-type {\n",
              "        vertical-align: middle;\n",
              "    }\n",
              "\n",
              "    .dataframe tbody tr th {\n",
              "        vertical-align: top;\n",
              "    }\n",
              "\n",
              "    .dataframe thead th {\n",
              "        text-align: right;\n",
              "    }\n",
              "</style>\n",
              "<table border=\"1\" class=\"dataframe\">\n",
              "  <thead>\n",
              "    <tr style=\"text-align: right;\">\n",
              "      <th></th>\n",
              "      <th>Sepal Length (in cm)</th>\n",
              "      <th>Sepal Width in (cm)</th>\n",
              "      <th>Petal length (in cm)</th>\n",
              "      <th>Petal width (in cm)</th>\n",
              "      <th>Class</th>\n",
              "      <th>SepalExtra</th>\n",
              "    </tr>\n",
              "  </thead>\n",
              "  <tbody>\n",
              "    <tr>\n",
              "      <th>0</th>\n",
              "      <td>5.1</td>\n",
              "      <td>3.5</td>\n",
              "      <td>1.4</td>\n",
              "      <td>0.2</td>\n",
              "      <td>Iris-setosa</td>\n",
              "      <td>17.85</td>\n",
              "    </tr>\n",
              "    <tr>\n",
              "      <th>1</th>\n",
              "      <td>4.9</td>\n",
              "      <td>3.0</td>\n",
              "      <td>1.4</td>\n",
              "      <td>0.2</td>\n",
              "      <td>Iris-setosa</td>\n",
              "      <td>14.70</td>\n",
              "    </tr>\n",
              "    <tr>\n",
              "      <th>2</th>\n",
              "      <td>4.7</td>\n",
              "      <td>3.2</td>\n",
              "      <td>1.3</td>\n",
              "      <td>0.2</td>\n",
              "      <td>Iris-setosa</td>\n",
              "      <td>15.04</td>\n",
              "    </tr>\n",
              "    <tr>\n",
              "      <th>3</th>\n",
              "      <td>4.6</td>\n",
              "      <td>3.1</td>\n",
              "      <td>1.5</td>\n",
              "      <td>0.2</td>\n",
              "      <td>Iris-setosa</td>\n",
              "      <td>14.26</td>\n",
              "    </tr>\n",
              "    <tr>\n",
              "      <th>4</th>\n",
              "      <td>5.0</td>\n",
              "      <td>3.6</td>\n",
              "      <td>1.4</td>\n",
              "      <td>0.2</td>\n",
              "      <td>Iris-setosa</td>\n",
              "      <td>18.00</td>\n",
              "    </tr>\n",
              "    <tr>\n",
              "      <th>...</th>\n",
              "      <td>...</td>\n",
              "      <td>...</td>\n",
              "      <td>...</td>\n",
              "      <td>...</td>\n",
              "      <td>...</td>\n",
              "      <td>...</td>\n",
              "    </tr>\n",
              "    <tr>\n",
              "      <th>145</th>\n",
              "      <td>6.7</td>\n",
              "      <td>3.0</td>\n",
              "      <td>5.2</td>\n",
              "      <td>2.3</td>\n",
              "      <td>Iris-virginica</td>\n",
              "      <td>20.10</td>\n",
              "    </tr>\n",
              "    <tr>\n",
              "      <th>146</th>\n",
              "      <td>6.3</td>\n",
              "      <td>2.5</td>\n",
              "      <td>5.0</td>\n",
              "      <td>1.9</td>\n",
              "      <td>Iris-virginica</td>\n",
              "      <td>15.75</td>\n",
              "    </tr>\n",
              "    <tr>\n",
              "      <th>147</th>\n",
              "      <td>6.5</td>\n",
              "      <td>3.0</td>\n",
              "      <td>5.2</td>\n",
              "      <td>2.0</td>\n",
              "      <td>Iris-virginica</td>\n",
              "      <td>19.50</td>\n",
              "    </tr>\n",
              "    <tr>\n",
              "      <th>148</th>\n",
              "      <td>6.2</td>\n",
              "      <td>3.4</td>\n",
              "      <td>5.4</td>\n",
              "      <td>2.3</td>\n",
              "      <td>Iris-virginica</td>\n",
              "      <td>21.08</td>\n",
              "    </tr>\n",
              "    <tr>\n",
              "      <th>149</th>\n",
              "      <td>5.9</td>\n",
              "      <td>3.0</td>\n",
              "      <td>5.1</td>\n",
              "      <td>1.8</td>\n",
              "      <td>Iris-virginica</td>\n",
              "      <td>17.70</td>\n",
              "    </tr>\n",
              "  </tbody>\n",
              "</table>\n",
              "<p>150 rows × 6 columns</p>\n",
              "</div>"
            ],
            "text/plain": [
              "     Sepal Length (in cm)  Sepal Width in (cm)  Petal length (in cm)  \\\n",
              "0                     5.1                  3.5                   1.4   \n",
              "1                     4.9                  3.0                   1.4   \n",
              "2                     4.7                  3.2                   1.3   \n",
              "3                     4.6                  3.1                   1.5   \n",
              "4                     5.0                  3.6                   1.4   \n",
              "..                    ...                  ...                   ...   \n",
              "145                   6.7                  3.0                   5.2   \n",
              "146                   6.3                  2.5                   5.0   \n",
              "147                   6.5                  3.0                   5.2   \n",
              "148                   6.2                  3.4                   5.4   \n",
              "149                   5.9                  3.0                   5.1   \n",
              "\n",
              "     Petal width (in cm)           Class  SepalExtra  \n",
              "0                    0.2     Iris-setosa       17.85  \n",
              "1                    0.2     Iris-setosa       14.70  \n",
              "2                    0.2     Iris-setosa       15.04  \n",
              "3                    0.2     Iris-setosa       14.26  \n",
              "4                    0.2     Iris-setosa       18.00  \n",
              "..                   ...             ...         ...  \n",
              "145                  2.3  Iris-virginica       20.10  \n",
              "146                  1.9  Iris-virginica       15.75  \n",
              "147                  2.0  Iris-virginica       19.50  \n",
              "148                  2.3  Iris-virginica       21.08  \n",
              "149                  1.8  Iris-virginica       17.70  \n",
              "\n",
              "[150 rows x 6 columns]"
            ]
          },
          "execution_count": 32,
          "metadata": {},
          "output_type": "execute_result"
        }
      ],
      "source": [
        "iris"
      ]
    },
    {
      "cell_type": "markdown",
      "metadata": {
        "id": "mg13H2RY9-ye"
      },
      "source": [
        "### Find out the mean and variance for each column but for class column "
      ]
    },
    {
      "cell_type": "code",
      "execution_count": 34,
      "metadata": {
        "id": "WVGTfeng9-ye"
      },
      "outputs": [
        {
          "data": {
            "text/plain": [
              "Sepal Length (in cm)     5.843333\n",
              "Sepal Width in (cm)      3.054000\n",
              "Petal length (in cm)     3.758667\n",
              "Petal width (in cm)      1.198667\n",
              "SepalExtra              17.806533\n",
              "dtype: float64"
            ]
          },
          "execution_count": 34,
          "metadata": {},
          "output_type": "execute_result"
        }
      ],
      "source": [
        "iris.mean(numeric_only=True)"
      ]
    },
    {
      "cell_type": "markdown",
      "metadata": {
        "id": "Qp5Vygpu9-ye"
      },
      "source": [
        "### Write a function that accepts two numbers as input and prints them - Pass the Sepal length and sepal width of 5th row and print the output"
      ]
    },
    {
      "cell_type": "code",
      "execution_count": 49,
      "metadata": {
        "id": "uUoA8lx89-ye"
      },
      "outputs": [
        {
          "name": "stdout",
          "output_type": "stream",
          "text": [
            "5.4, 3.9\n"
          ]
        }
      ],
      "source": [
        "def Display(a, b):\n",
        "    print(\"%s, %s\" % (a,b))\n",
        "\n",
        "Display(iris['Sepal Length (in cm)'][5], iris['Sepal Width in (cm)'][5])"
      ]
    },
    {
      "cell_type": "markdown",
      "metadata": {
        "id": "RggDcltu9-ye"
      },
      "source": [
        "### Find the range of all the columns in the dataset\n",
        "\n",
        "*Range = Max value - Min value (in the column)*"
      ]
    },
    {
      "cell_type": "code",
      "execution_count": 53,
      "metadata": {
        "id": "HEZFUed99-yf"
      },
      "outputs": [
        {
          "data": {
            "text/plain": [
              "<bound method NDFrame._add_numeric_operations.<locals>.max of      Sepal Length (in cm)  Sepal Width in (cm)  Petal length (in cm)  \\\n",
              "0                     5.1                  3.5                   1.4   \n",
              "1                     4.9                  3.0                   1.4   \n",
              "2                     4.7                  3.2                   1.3   \n",
              "3                     4.6                  3.1                   1.5   \n",
              "4                     5.0                  3.6                   1.4   \n",
              "..                    ...                  ...                   ...   \n",
              "145                   6.7                  3.0                   5.2   \n",
              "146                   6.3                  2.5                   5.0   \n",
              "147                   6.5                  3.0                   5.2   \n",
              "148                   6.2                  3.4                   5.4   \n",
              "149                   5.9                  3.0                   5.1   \n",
              "\n",
              "     Petal width (in cm)           Class  SepalExtra  \n",
              "0                    0.2     Iris-setosa       17.85  \n",
              "1                    0.2     Iris-setosa       14.70  \n",
              "2                    0.2     Iris-setosa       15.04  \n",
              "3                    0.2     Iris-setosa       14.26  \n",
              "4                    0.2     Iris-setosa       18.00  \n",
              "..                   ...             ...         ...  \n",
              "145                  2.3  Iris-virginica       20.10  \n",
              "146                  1.9  Iris-virginica       15.75  \n",
              "147                  2.0  Iris-virginica       19.50  \n",
              "148                  2.3  Iris-virginica       21.08  \n",
              "149                  1.8  Iris-virginica       17.70  \n",
              "\n",
              "[150 rows x 6 columns]>"
            ]
          },
          "execution_count": 53,
          "metadata": {},
          "output_type": "execute_result"
        }
      ],
      "source": []
    },
    {
      "cell_type": "markdown",
      "metadata": {
        "id": "ODYsDkTV9-yf"
      },
      "source": [
        "### Sort the entire dataset according to the column Petal width"
      ]
    },
    {
      "cell_type": "code",
      "execution_count": null,
      "metadata": {
        "id": "bz6tHs659-yf"
      },
      "outputs": [],
      "source": []
    },
    {
      "cell_type": "markdown",
      "metadata": {
        "id": "u95lJUWo9-yf"
      },
      "source": [
        "### Remove the new column \"SepalExtra\" from the dataframe"
      ]
    },
    {
      "cell_type": "code",
      "execution_count": null,
      "metadata": {
        "id": "d4VyDFUt9-yf"
      },
      "outputs": [],
      "source": []
    },
    {
      "cell_type": "markdown",
      "metadata": {
        "id": "kQgLcXb39-yf"
      },
      "source": [
        "### Take only the top 10 rows of the dataset with only first 3 columns and store it in a dataframe named \"IrisSubset\" "
      ]
    },
    {
      "cell_type": "code",
      "execution_count": null,
      "metadata": {
        "id": "nM_ImRV-9-yf"
      },
      "outputs": [],
      "source": []
    },
    {
      "cell_type": "code",
      "execution_count": null,
      "metadata": {
        "id": "2VpYG9Ak9-yg"
      },
      "outputs": [],
      "source": []
    },
    {
      "cell_type": "markdown",
      "metadata": {
        "id": "oe7boNtN9-yg"
      },
      "source": [
        "# Part-2"
      ]
    },
    {
      "cell_type": "markdown",
      "metadata": {
        "id": "LhaW7wte9-yg"
      },
      "source": [
        "## The dataset HR contains information collected from the survey floated by a HR within the company.\n",
        "\n",
        "\n",
        "As a part of this lab, you are expected to answer the below questions"
      ]
    },
    {
      "cell_type": "markdown",
      "metadata": {
        "id": "RmSXi2EM9-yg"
      },
      "source": [
        "### Import numpy and Pandas "
      ]
    },
    {
      "cell_type": "code",
      "execution_count": null,
      "metadata": {
        "id": "4A9fgTWH9-yi"
      },
      "outputs": [],
      "source": []
    },
    {
      "cell_type": "markdown",
      "metadata": {
        "id": "SJrVQIzS9-yi"
      },
      "source": [
        "### Import the dataset (Note: The dataset is in .txt format) - Make sure to use delimiters"
      ]
    },
    {
      "cell_type": "code",
      "execution_count": null,
      "metadata": {
        "id": "prpCu-jW9-yi"
      },
      "outputs": [],
      "source": []
    },
    {
      "cell_type": "markdown",
      "metadata": {
        "id": "sgHufLS09-yi"
      },
      "source": [
        "### Print the no of rows and columns in the dataset "
      ]
    },
    {
      "cell_type": "code",
      "execution_count": null,
      "metadata": {
        "id": "D4vGSC_w9-yj"
      },
      "outputs": [],
      "source": []
    },
    {
      "cell_type": "code",
      "execution_count": null,
      "metadata": {
        "id": "_ynJSNGt9-yj"
      },
      "outputs": [],
      "source": []
    },
    {
      "cell_type": "markdown",
      "metadata": {
        "id": "JgaII8459-yj"
      },
      "source": [
        "### Find out the type of each and every column in the dataset "
      ]
    },
    {
      "cell_type": "code",
      "execution_count": null,
      "metadata": {
        "id": "MosieL9L9-yj"
      },
      "outputs": [],
      "source": []
    },
    {
      "cell_type": "code",
      "execution_count": null,
      "metadata": {
        "id": "bQxBb3Lv9-yj"
      },
      "outputs": [],
      "source": []
    },
    {
      "cell_type": "markdown",
      "metadata": {
        "id": "HHCUWLC29-yj"
      },
      "source": [
        "### Print out all the rows from 3rd column to 10th columns  "
      ]
    },
    {
      "cell_type": "code",
      "execution_count": null,
      "metadata": {
        "id": "5WDrX-_o9-yk"
      },
      "outputs": [],
      "source": []
    },
    {
      "cell_type": "markdown",
      "metadata": {
        "id": "Le-QXHEH9-yk"
      },
      "source": [
        "### Find out the no of male & female employees in the company\n",
        "\n",
        "*Hint: Use can use a condition to find out the no of 1s and 0s in gender and sum it*"
      ]
    },
    {
      "cell_type": "code",
      "execution_count": null,
      "metadata": {
        "id": "dHeg8QiV9-yk"
      },
      "outputs": [],
      "source": []
    },
    {
      "cell_type": "code",
      "execution_count": null,
      "metadata": {
        "id": "TsMssL5V9-yk"
      },
      "outputs": [],
      "source": []
    },
    {
      "cell_type": "markdown",
      "metadata": {
        "id": "KfGYa3TJ9-yk"
      },
      "source": [
        "### Find out the IQR for the column - Age \n",
        "\n",
        "*Hint: IQR - Interquartile range = 75th percentile - 25th percentile* "
      ]
    },
    {
      "cell_type": "code",
      "execution_count": null,
      "metadata": {
        "id": "1tO7lZKb9-yk"
      },
      "outputs": [],
      "source": []
    },
    {
      "cell_type": "markdown",
      "metadata": {
        "id": "MD-OQ2Oa9-yk"
      },
      "source": [
        "### Find out the mean, median and variance for the column - DailyRate "
      ]
    },
    {
      "cell_type": "code",
      "execution_count": null,
      "metadata": {
        "id": "dmNxP-KI9-yl"
      },
      "outputs": [],
      "source": []
    },
    {
      "cell_type": "markdown",
      "metadata": {
        "id": "FIRN4Y2w9-yl"
      },
      "source": [
        "### Plot the attrition column (Since it is a categorical variable, chose the plot accordingly)"
      ]
    },
    {
      "cell_type": "code",
      "execution_count": null,
      "metadata": {
        "id": "BX4oCAR69-yl"
      },
      "outputs": [],
      "source": []
    },
    {
      "cell_type": "code",
      "execution_count": null,
      "metadata": {
        "id": "IVj57mmv9-yl"
      },
      "outputs": [],
      "source": []
    },
    {
      "cell_type": "markdown",
      "metadata": {
        "id": "zCNMUXWo9-yl"
      },
      "source": [
        "### Plot Total working years using matplotlib plot function"
      ]
    },
    {
      "cell_type": "code",
      "execution_count": null,
      "metadata": {
        "id": "l87i3g5G9-yl"
      },
      "outputs": [],
      "source": []
    }
  ],
  "metadata": {
    "colab": {
      "name": "DS&AI Exercise 1.ipynb",
      "provenance": []
    },
    "kernelspec": {
      "display_name": "Python 3",
      "language": "python",
      "name": "python3"
    },
    "language_info": {
      "codemirror_mode": {
        "name": "ipython",
        "version": 3
      },
      "file_extension": ".py",
      "mimetype": "text/x-python",
      "name": "python",
      "nbconvert_exporter": "python",
      "pygments_lexer": "ipython3",
      "version": "3.8.17"
    }
  },
  "nbformat": 4,
  "nbformat_minor": 0
}
